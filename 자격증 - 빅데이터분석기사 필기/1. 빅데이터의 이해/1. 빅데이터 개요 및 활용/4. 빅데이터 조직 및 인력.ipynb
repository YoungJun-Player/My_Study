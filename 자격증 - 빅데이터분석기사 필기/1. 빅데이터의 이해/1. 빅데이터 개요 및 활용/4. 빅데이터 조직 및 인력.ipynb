{
 "cells": [
  {
   "cell_type": "markdown",
   "metadata": {},
   "source": [
    "# 4. 빅데이터 조직 및 인력"
   ]
  },
  {
   "cell_type": "markdown",
   "metadata": {},
   "source": [
    "## (1). 빅데이터 조직 설계"
   ]
  },
  {
   "cell_type": "markdown",
   "metadata": {},
   "source": [
    "### 가. 빅데이터 업무 프로세스"
   ]
  },
  {
   "cell_type": "markdown",
   "metadata": {},
   "source": [
    "#### 빅데이터 도입 단계\n",
    "\n",
    "빅데이터 시스템 구축을 위한 빅데티어 토입 기획, 기술 검토, 도입 조직 구성, 예산 확보 등 수행"
   ]
  },
  {
   "cell_type": "markdown",
   "metadata": {},
   "source": [
    "#### 빅데이터 구축 단계\n",
    "\n",
    "요구사항 분석, 설계, 구현, 테스트 단계를 수행"
   ]
  },
  {
   "cell_type": "markdown",
   "metadata": {},
   "source": [
    "#### 빅데이터 운영 단계\n",
    "\n",
    "빅데이터 시스템의 도입 및 구축이 끝나면 이를 인수하여 운영 계획을 수립\n",
    "\n",
    "빅데이터 플랫폼 운영, 데이터 및 빅데이터 분석모델 운영, 빅데이터 운영 조직, 빅데이터 운영 예산 고려"
   ]
  },
  {
   "cell_type": "markdown",
   "metadata": {},
   "source": [
    "### 나. 조직 구조 설계의 요소"
   ]
  },
  {
   "cell_type": "markdown",
   "metadata": {},
   "source": [
    "#### 업무 활동\n",
    "\n",
    "- 수직 업무 활동 : 경영 계획, 예산 할당 등 우선 순위를 결정\n",
    "\n",
    "- 수평 업무 활동 : 업무 프로세스 절차별로 업무를 배분"
   ]
  },
  {
   "cell_type": "markdown",
   "metadata": {},
   "source": [
    "#### 부서화\n",
    "\n",
    "- 조직의 미션과 목적을 효율적으로 달성하기 위한 조직 구조 유형 설게\n",
    "\n",
    "- 조직 구조 유형은 집중 구조, 기능 구조, 분산 구조로 분류"
   ]
  },
  {
   "cell_type": "markdown",
   "metadata": {},
   "source": [
    "#### 보고 체계\n",
    "\n",
    "조직의 목표 달성을 위해 업무 활동 및 부서의 보고 체계를 설게"
   ]
  },
  {
   "cell_type": "markdown",
   "metadata": {},
   "source": [
    "### 다. 조직 구조 유형"
   ]
  },
  {
   "cell_type": "markdown",
   "metadata": {},
   "source": [
    "#### 집중 구조\n",
    "\n",
    "- 별도의 분석 전담 조직에서 담당\n",
    "\n",
    "- 분석 조직이 우선순위를 정해서 진행 가능\n",
    "\n",
    "- 현업 부서와 중복 및 이원화 가능성 높음\n",
    "\n",
    "#### 기능구조\n",
    "\n",
    "- 일반적인 형태로 별도 분석 조직이 없고 해당 부서에서 분석 시행\n",
    "\n",
    "- 전사적 핵심 분석이 어려우며 과거에 국한된 분석 수행\n",
    "\n",
    "####  분산구조\n",
    "\n",
    "- 인력들은 현업 부서로 직접 배치해 분석 업무 수행\n",
    "\n",
    "- 전사 차원의 우선순위 수행\n",
    "\n",
    "- 분석 결과에 따른 신속한 피드백이 나오고 베스트 프랙티스 공유 가능\n",
    "\n",
    "- 업무 과다와 이원화 가능성이 존재할 수 있기에 부서 분석 업무와 역할 분담이 명확해야 함"
   ]
  },
  {
   "cell_type": "markdown",
   "metadata": {},
   "source": [
    "### 라. 조직 구조의 설계 특성"
   ]
  },
  {
   "cell_type": "markdown",
   "metadata": {},
   "source": [
    "#### 공식화\n",
    "\n",
    "업무의 수행 절차, 수행 방법, 작업 결과 등의 기준을 사전에 설정하여 공식화\n",
    "\n",
    "#### 분업화\n",
    "\n",
    "업무를 분할하여 수행\n",
    "수평적 분할과 수직적 분할로 구분\n",
    "\n",
    "#### 직무 전문화\n",
    "\n",
    "전문성에 따라 생산량이 증가되므로 전문 지식과 경험이 중요한 요소\n",
    "\n",
    "#### 통제 범위\n",
    "\n",
    "관리자가 효율적이며 효과적으로 관리할 수 있는 조직의 인원수\n",
    "\n",
    "#### 의사소통 및 조정\n",
    "\n",
    "업무 수행 시 의사소통은 업무의 지시, 보고, 피드백 등 수직적인 활동과 문제 해결을 위한 협업 등 수평적인 활동으로 구분"
   ]
  },
  {
   "cell_type": "markdown",
   "metadata": {},
   "source": [
    "## (2). 조직 역량"
   ]
  },
  {
   "cell_type": "markdown",
   "metadata": {},
   "source": [
    "### 가. 조직 역량 개념"
   ]
  },
  {
   "cell_type": "markdown",
   "metadata": {},
   "source": [
    "역량을 확보하여 조직 구성원들이 조직이 기대한 성과를 낼 수 있도록 하는 중요 요소\n"
   ]
  },
  {
   "cell_type": "markdown",
   "metadata": {},
   "source": [
    "### 데이터 사이언티스트 요구 역량\n",
    "\n"
   ]
  },
  {
   "cell_type": "markdown",
   "metadata": {},
   "source": [
    "#### 소프트 스킬\n",
    "\n",
    "협업 능력, 분석의 통찰력, 설득력있는 전달력"
   ]
  },
  {
   "cell_type": "markdown",
   "metadata": {},
   "source": [
    "#### 하드 스킬\n",
    "\n",
    "분석 기술의 숙련도, 관련 이론적 지식"
   ]
  },
  {
   "cell_type": "markdown",
   "metadata": {},
   "source": [
    "#### 가트너 왈\n",
    "\n",
    "분석 모델링, 데이터 관리, 소프트 스킬, 비즈니스 분석\n",
    "\n",
    "( 하드스킬 언급이 빠짐)"
   ]
  },
  {
   "cell_type": "markdown",
   "metadata": {},
   "source": [
    "## (3). 데이터 거버넌스"
   ]
  },
  {
   "cell_type": "markdown",
   "metadata": {},
   "source": [
    "기업에서 사용하는 데이터의 가용성, 유용성, 통합성, 보안성을 관리하기 위한 정책과 프로세스를 다루며 프라이버시, 보안성, 데이터 품질, 관리 규정 준수를 강조하는 모델"
   ]
  },
  {
   "cell_type": "markdown",
   "metadata": {},
   "source": [
    "### 데이터 거버넌스 구성 요소"
   ]
  },
  {
   "cell_type": "markdown",
   "metadata": {},
   "source": [
    "#### 원칙\n",
    "\n",
    "- 데이터를 유지, 관리하기 위한 지침과 가이드\n",
    "\n",
    "- 품질 기준, 보안, 변경관리"
   ]
  },
  {
   "cell_type": "markdown",
   "metadata": {},
   "source": [
    "#### 조직\n",
    "\n",
    "- 관리할 조직의 역할과 책임"
   ]
  },
  {
   "cell_type": "markdown",
   "metadata": {},
   "source": [
    "#### 프로세스\n",
    "\n",
    "- 데이터 관리를 위한 활동과 체계\n",
    "\n",
    "- 작업 절차, 모니터링 활동, 측정 활동 등"
   ]
  },
  {
   "cell_type": "markdown",
   "metadata": {},
   "source": [
    "### 데이터 거버넌스 체계"
   ]
  },
  {
   "cell_type": "markdown",
   "metadata": {},
   "source": [
    "#### 데이터 표준화\n",
    "\n",
    "표준 용어 설명, 명명 규칙, 메타데이터 구축, 데이터 사전 구축\n",
    "\n",
    "데이터 표준 준수 진단, 논리, 물리 모델 표준에 맞는지 검증"
   ]
  },
  {
   "cell_type": "markdown",
   "metadata": {},
   "source": [
    "#### 표준화 활동\n",
    "\n",
    "표준 준수 여부를 주기적으로 점검 및 모니터링 실시\n",
    "\n"
   ]
  },
  {
   "cell_type": "markdown",
   "metadata": {},
   "source": [
    "#### 데이터 관리 체계\n",
    "\n",
    "메타데이터와 데이터 사전의 관리 원칙 수립\n",
    "\n"
   ]
  },
  {
   "cell_type": "markdown",
   "metadata": {},
   "source": [
    "#### 데이터 저장소 관리\n",
    "\n",
    "메타데이터 및 표준 데이터를 관리하기 위한 전사 차원의 저장소 구성"
   ]
  },
  {
   "cell_type": "markdown",
   "metadata": {},
   "source": [
    "## (4). 분석 준비도"
   ]
  },
  {
   "cell_type": "markdown",
   "metadata": {},
   "source": [
    "### 성숙도 단계"
   ]
  },
  {
   "cell_type": "markdown",
   "metadata": {},
   "source": [
    "#### 도입 단계\n",
    "\n",
    "분석을 시작해 환경과 시스템을 구축하는 단계"
   ]
  },
  {
   "cell_type": "markdown",
   "metadata": {},
   "source": [
    "#### 활용 단계\n",
    "\n",
    "분석 결과를 실제 업무에 적용하는 단계"
   ]
  },
  {
   "cell_type": "markdown",
   "metadata": {},
   "source": [
    "#### 확산 단계\n",
    "\n",
    "전사 차원에서 분석을 관리하고 공유하는 단계\n",
    "\n"
   ]
  },
  {
   "cell_type": "markdown",
   "metadata": {},
   "source": [
    "#### 최적화 단계\n",
    "\n",
    "분석을 진화시켜서 혁신 및 성과 향상에 기여하는 단계"
   ]
  },
  {
   "cell_type": "markdown",
   "metadata": {},
   "source": [
    "### 개선 방안 수립"
   ]
  },
  {
   "attachments": {
    "image.png": {
     "image/png": "[encoded data removed]"
    }
   },
   "cell_type": "markdown",
   "metadata": {},
   "source": [
    "![image.png](attachment:image.png)"
   ]
  },
  {
   "cell_type": "markdown",
   "metadata": {},
   "source": [
    "#### 준비형\n",
    "\n",
    "데이터 분석을 위한 낮은 준비도와 낮은 성숙도 수준에 있는 기업\n",
    "\n",
    "기업에 필요한 데이터, 인력, 조직, 분석 업무, 분석 기법 등이 적용되어 있지 않아 사전 준비가 필요한 기업\n",
    "\n"
   ]
  },
  {
   "cell_type": "markdown",
   "metadata": {},
   "source": [
    "#### 정착형\n",
    "\n",
    "준비도는 낮으나 조직, 인력, 분석 업무, 분석 기법 등을 기업 내부에서 제한적으로 사용하고 있어 일차적으로 정착이 필요한 기업\n",
    "\n"
   ]
  },
  {
   "cell_type": "markdown",
   "metadata": {},
   "source": [
    "#### 도입형\n",
    "\n",
    "기업에서 활용하는 분석 업무, 기법 등은 부족하지만 적용 조직 등 준비도가 높아 바로 도입할 수 있는 기업\n",
    "\n"
   ]
  },
  {
   "cell_type": "markdown",
   "metadata": {},
   "source": [
    "#### 확산형\n",
    "\n",
    "기업에 필요한 6가지 분석 구성요소를 갖추고 있고, 지속적인 확산이 필요한 기업"
   ]
  }
 ],
 "metadata": {
  "language_info": {
   "name": "python"
  }
 },
 "nbformat": 4,
 "nbformat_minor": 2
}
