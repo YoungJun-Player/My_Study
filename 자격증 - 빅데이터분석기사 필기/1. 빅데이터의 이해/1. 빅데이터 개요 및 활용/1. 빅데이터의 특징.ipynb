{
 "cells": [
  {
   "cell_type": "markdown",
   "metadata": {},
   "source": [
    "# 01-1-1. 빅데이터의 특징"
   ]
  },
  {
   "cell_type": "markdown",
   "metadata": {},
   "source": [
    "## 1. 빅데이터"
   ]
  },
  {
   "cell_type": "markdown",
   "metadata": {},
   "source": [
    "### 가. 빅데이터 개념\n"
   ]
  },
  {
   "cell_type": "markdown",
   "metadata": {},
   "source": [
    "- 빅데이터는 막대한 양( 수십 테라바이트 이상)의 정형 및 비정형 데이터이다\n",
    "\n",
    "- 데이터 로부터 가치를 추출하고 결과를 분석하여 통찰, 지혜를 얻는 과정이다\n",
    "\n",
    "- Ackoff, R.L이 도식화 한 DIKW 피라미드로 표현할 수 있다\n",
    "\n"
   ]
  },
  {
   "cell_type": "markdown",
   "metadata": {},
   "source": [
    "#### DIKW 피라미드\n",
    "\n",
    "- 데이터(Data) : 객관적 사실로서 다른 데이터와의 상관 관계가 없는 가공하기 전의 순수한 수치나 기호\n",
    "\n",
    "예) 수지비 빅분기 책을 A 사이트에서 30000원, B사이트 에서는 34000원으로 팔고 있음\n",
    "\n",
    "- 정보(information) : 가공, 처리하여 데이터 간의 연관 관계와 함께 의미가 도출된 요소\n",
    "\n",
    "예) 수제비 빅분기 책은 A사이트에서 더 싸게 판매\n",
    "\n",
    "- 지식(Knowledge) : 획득된 다양한 정보를 구조화 하여 유의미한 정보로 분류하고 일반화 시킨 결과물\n",
    "\n",
    "예) 서적들은 A 사이트가 싸게 팔기 때문에 수제비 책을 구입할 계획\n",
    "\n",
    "- 지혜 : 근본 원리에 대한 깊은 이해를 바탕으로 도출되는 창의적 아이디어\n",
    "\n",
    "예) A 사이트의 다른 상품들도 B 사이트보다 저렴할 것으로 판단"
   ]
  },
  {
   "cell_type": "markdown",
   "metadata": {},
   "source": [
    "- 데이터를 수집, 저장, 관리, 분석하는 기존의 관리 방법으로는 막대한 양의 데이터를 처리하기 어려울 때 빅데이터를 사용한다"
   ]
  },
  {
   "cell_type": "markdown",
   "metadata": {},
   "source": [
    "### 나. 데이터의 양을 측정하는 단위"
   ]
  },
  {
   "cell_type": "markdown",
   "metadata": {},
   "source": [
    "KB / 킬로 바이트 / 10 ** 3 바이트\n",
    "\n",
    "MB / 메가 바이트 / 10 ** 6 바이트\n",
    " \n",
    "GB / 기가 바이트 / 10 ** 9 바이트\n",
    "\n",
    "TB / 테라 바이트 / 10 ** 12 바이트\n",
    "\n",
    "PB / 페타 바이트 / 10 ** 15 바이트\n",
    "\n",
    "EB / 엑사 바이트 / 10 ** 18 바이트\n",
    "\n",
    "ZB / 제타 바이트 / 10 ** 21 바이트\n",
    "\n",
    "YB / 요타 바이트 / 10 ** 24 바이트"
   ]
  },
  {
   "cell_type": "markdown",
   "metadata": {},
   "source": [
    "## 2. 빅데이터의 특성"
   ]
  },
  {
   "cell_type": "markdown",
   "metadata": {},
   "source": [
    "전통적으로 3V의 특성이 있지만 최근에는 7V까지 계속 확장되고 있음\n",
    "\n"
   ]
  },
  {
   "cell_type": "markdown",
   "metadata": {},
   "source": [
    "#### 3V\n",
    "\n",
    "규모 (Volume) : 빅데이터 분석 규모\n",
    "\n",
    "다양성 (Variety) : 정형데이터뿐만 아니라 비정형, 반정형 데이터를 포함\n",
    "\n",
    "속도 (Velocity) : 가치 있는 정보 활용을 위해 데이터 처리 및 분석 속도의 중요성 증가"
   ]
  },
  {
   "cell_type": "markdown",
   "metadata": {},
   "source": [
    "#### 4V ~ 7V\n",
    "\n",
    "가치 (Value) : 빅데이터 수집 데이터를 통해 얻을 수 있는 가치\n",
    "\n",
    "신뢰성(veracity) : 빅데이터 수집 대상 데이터가 가지는 신뢰에 관련된 특직\n",
    "\n",
    "정확성(Validity) : 빅데이터 수집 대상 데이터가 가지는 유효성과 정확성\n",
    "\n",
    "휘발성 (Volatility) : 데이터가 얼마나 오래 저장될 수 있고, 타당하며 오래 쓰일 수 있을 지에 관한 사항"
   ]
  },
  {
   "cell_type": "markdown",
   "metadata": {},
   "source": [
    "## 3. 데이터 지식 경영"
   ]
  },
  {
   "cell_type": "markdown",
   "metadata": {},
   "source": [
    "데이터 기반 지식 경영의 핵심 이슈는 암묵지와 형식지의 상호 작용에 있다"
   ]
  },
  {
   "cell_type": "markdown",
   "metadata": {},
   "source": [
    "- 암묵지 (Tacit Knowledge) : 학습과 경험을 통해 개인에게 체화되어 있지만 걷으로 드러나지 않는 지식\n",
    "\n",
    "- 형식지 (Explicit Knowledge) : 문서나 매뉴얼처럼 형상화된 지식 "
   ]
  },
  {
   "cell_type": "markdown",
   "metadata": {},
   "source": [
    "## 4. 데이터 지식 경영 상호 작용(SECI 모델)"
   ]
  },
  {
   "cell_type": "markdown",
   "metadata": {},
   "source": [
    "데이터 지식경영 상호 작용에는 공통화, 표출화, 연결화, 내면화가 있다\n",
    "\n",
    "공통화(Socialization) :  다른 사람과의 대화 등 상호 작용을 통해 개인이 암묵지를 슥듭하는 단계\n",
    "\n",
    "표출화(Externalization) : 형식지 요소 중의 하나이며 개인에게 내재된 경험을 객관적인 데이터 문서나 매체로 저장하거나 가공, 분석하는 과정\n",
    "\n",
    "연결화(Combination) :  형식지가 상호결합하면서 새로운 형식지를 창출하는 과정\n",
    "\n",
    "내면화(Ineranalization) : 행동과 실천 교육 등을 통해 형식지가 개인의 암묵지로 체화되는 단계"
   ]
  }
 ],
 "metadata": {
  "language_info": {
   "name": "python"
  }
 },
 "nbformat": 4,
 "nbformat_minor": 2
}
