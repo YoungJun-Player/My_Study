{
 "cells": [
  {
   "cell_type": "markdown",
   "metadata": {},
   "source": [
    "# 07. 순전파와 역전파"
   ]
  },
  {
   "cell_type": "markdown",
   "metadata": {},
   "source": [
    "### 순전파"
   ]
  },
  {
   "cell_type": "markdown",
   "metadata": {},
   "source": [
    "순전파란 순방향 전달이라고도 하며 입력이 주어지면 신경망의 출력을 계산하는 프로세스다 \n",
    "\n",
    "입력 데이터를 기반으로 신경망을 따라 입려층부터 출력층까지 차례대로 변수를 계산하고 추론한 결과를 전달한다"
   ]
  },
  {
   "cell_type": "markdown",
   "metadata": {},
   "source": [
    "### 역전파"
   ]
  },
  {
   "cell_type": "markdown",
   "metadata": {},
   "source": [
    "역전파는 순전파 방향과 반대로 연산이 진행된다 \n",
    "\n",
    "학습과정에서 네트워크의 가중치와 편향은 예측된 출력값과 실제 출력값 사이의 오류를 최소화하기 위해 조정된다\n",
    "\n",
    "그러므로 순전파 과정을 통해 나온 오차를 활용해 각 계층의 가중치와 편향을 최적화한다"
   ]
  },
  {
   "cell_type": "markdown",
   "metadata": {},
   "source": [
    "역전파 과정에서는 각각의 가중치와 편향을 최적화하기 위해 연쇄 법칙을 활용한다\n",
    "\n",
    "최적화 알고리즘을 통해 실젯값과 예측값의 차이를 계산해 오차를 최소로 줄일 수 있는 가중치와 편향 계산"
   ]
  }
 ],
 "metadata": {
  "language_info": {
   "name": "python"
  }
 },
 "nbformat": 4,
 "nbformat_minor": 2
}
