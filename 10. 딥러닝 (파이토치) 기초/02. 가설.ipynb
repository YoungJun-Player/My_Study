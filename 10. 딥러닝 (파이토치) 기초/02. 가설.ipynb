{
 "cells": [
  {
   "cell_type": "markdown",
   "metadata": {},
   "source": [
    "# 02. 가설"
   ]
  },
  {
   "cell_type": "markdown",
   "metadata": {},
   "source": [
    "### 가설(Hypothesis)이란?"
   ]
  },
  {
   "cell_type": "markdown",
   "metadata": {},
   "source": [
    "어떤 사실을 증명하거나 설명하기 위한 가정으로 두 개 이상의 변수 관계를 검증 가능한 형태로 기술하여 변수 간의 관계를 예측하는 것을 의미"
   ]
  },
  {
   "cell_type": "markdown",
   "metadata": {},
   "source": [
    "연구 가설(Research Hypothesis), 귀무 가설(Null Hypothesis), 대립 가설(Alternative Hypothesis)로 나눌 수 있다"
   ]
  },
  {
   "cell_type": "markdown",
   "metadata": {},
   "source": [
    "연구가설 : 연구자가 검증하려는 가설로 귀무가설을 부정하는 것으로 설정한 가설을 증명하려는 가설\n",
    "\n",
    "귀무가설 : 통계학에서 처음부터 버릴 것을예상하는 가설이며 변수 간 차이나 관계가 없음을 통계학적 증거를 통해 증명하려는 가설\n",
    "\n",
    "대립가설 : 귀무가설과 반대되는 가설로, 귀무가설이 거짓이라면 대안으로 참이 되는 가설이며 연구가설과 동일, 이를 통해 통계적 가설 검정을 진행할 수 있음"
   ]
  },
  {
   "cell_type": "markdown",
   "metadata": {},
   "source": [
    "### 머신러닝에서의 가설"
   ]
  },
  {
   "cell_type": "markdown",
   "metadata": {},
   "source": [
    "머신러닝에서의 가설은 통계적 가설 검정이 되며, 데이터와 변수 간의 관계가 있는지 확률론적으로 설명"
   ]
  },
  {
   "cell_type": "markdown",
   "metadata": {},
   "source": [
    "즉 머신러닝에서의 가설은 독립변수와 종속 변수를 가장 잘 매핑시킬 수 있는 기능을 학습하기 위해 사용"
   ]
  },
  {
   "cell_type": "markdown",
   "metadata": {},
   "source": [
    "단일 가설(h) : 입력을 출력에 매핑하고 평가하고 예측하는 데 사용할 수 있는 단일시스템\n",
    "\n",
    "가설 집합(H) : 출력에 입력을 매핑하기 위한 가설 공간으로써 모든 가설을 의미"
   ]
  },
  {
   "cell_type": "markdown",
   "metadata": {},
   "source": [
    "학습이 된 결과를 모델이라고 부르며 이 모델을 통해 새로운 입력에 대한 결괏값을 예측이라고 한다"
   ]
  }
 ],
 "metadata": {
  "kernelspec": {
   "display_name": "Python 3",
   "language": "python",
   "name": "python3"
  },
  "language_info": {
   "name": "python",
   "version": "3.12.4"
  }
 },
 "nbformat": 4,
 "nbformat_minor": 2
}
