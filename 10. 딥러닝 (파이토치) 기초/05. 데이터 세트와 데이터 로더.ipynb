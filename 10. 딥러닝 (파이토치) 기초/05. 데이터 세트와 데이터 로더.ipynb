{
 "cells": [
  {
   "cell_type": "markdown",
   "metadata": {},
   "source": [
    "# 05. 데이터 세트와 데이터 로더"
   ]
  },
  {
   "cell_type": "markdown",
   "metadata": {},
   "source": [
    "### 데이터 세트"
   ]
  },
  {
   "cell_type": "markdown",
   "metadata": {},
   "source": [
    "데이터의 집합을 의미\n",
    "\n",
    "입력값(X)와 결괏값(Y)에 대한 정보를 제공하거나 데이터 샘플을 저장하고 정답을 저장하는 기능을 제공일련의 데이터 묶음을 제공\n",
    "\n",
    "일반적으로 데이터베이스와 테이블과 같은 형태로 구성"
   ]
  },
  {
   "cell_type": "markdown",
   "metadata": {},
   "source": [
    "### 데이터 로더"
   ]
  },
  {
   "cell_type": "markdown",
   "metadata": {},
   "source": [
    "데이터 세트에 저장된 데이터를 어떠한 방식으로 불러와 활용할 지 정의\n",
    "\n",
    "배치 크기(batch_size), 데이터 순서 변경(shuffle), 데이터 로드 프로세스 수(num_workers) 등의 기능을 제공한다"
   ]
  },
  {
   "cell_type": "markdown",
   "metadata": {},
   "source": [
    "배치 크기(batch_size) : 학습에 사용되는 데이터의 수가 매우 많아  한 번의 에폭에서 모든 데이터를 메모리에 올릴 수 없을 때 데이터를 나누는 역할, 전체 데이터를 10개의 배치 크기로 나누었을 때 한번 학습 시 10개의 배치를 다 돌면 1회 에폭으로 카운트됨\n",
    "\n",
    "데이터 순서 변경 : 모델이 데이터 간의 관계가 아닌, 데이터의 순서로 학습되는 것을 방지하고자 수행하는 기능, 데이터 샘플과 정답의 매핑 관계는 변경되지 않으며, 행의 순서를 변경하는 개념\n",
    "\n",
    "데이터 로드 프로세스 수 : 데이터를 불러올 때 사용할 프로세스의 개수를 의미, 학습을 제외한 코드에서는 데이터를 불러오는 데에 가장 시간이 오래 소요되는데, 이를 최소화 하고자 조절 가능\n",
    "\n",
    "\n",
    "\n"
   ]
  },
  {
   "cell_type": "markdown",
   "metadata": {},
   "source": [
    "### 다중 선형 회귀"
   ]
  },
  {
   "cell_type": "code",
   "execution_count": 2,
   "metadata": {},
   "outputs": [
    {
     "name": "stdout",
     "output_type": "stream",
     "text": [
      "Epoch : 1000, Model : [Parameter containing:\n",
      "tensor([[0.3568, 0.4532],\n",
      "        [0.2948, 0.9492]], requires_grad=True), Parameter containing:\n",
      "tensor([-0.8740, -0.5132], requires_grad=True)], Cost : 0.019\n",
      "Epoch : 2000, Model : [Parameter containing:\n",
      "tensor([[0.4482, 0.4059],\n",
      "        [0.3517, 0.9197]], requires_grad=True), Parameter containing:\n",
      "tensor([-1.0128, -0.5996], requires_grad=True)], Cost : 0.005\n",
      "Epoch : 3000, Model : [Parameter containing:\n",
      "tensor([[0.4948, 0.3818],\n",
      "        [0.3807, 0.9048]], requires_grad=True), Parameter containing:\n",
      "tensor([-1.0834, -0.6435], requires_grad=True)], Cost : 0.001\n",
      "Epoch : 4000, Model : [Parameter containing:\n",
      "tensor([[0.5185, 0.3695],\n",
      "        [0.3955, 0.8971]], requires_grad=True), Parameter containing:\n",
      "tensor([-1.1194, -0.6659], requires_grad=True)], Cost : 0.000\n",
      "Epoch : 5000, Model : [Parameter containing:\n",
      "tensor([[0.5306, 0.3633],\n",
      "        [0.4030, 0.8932]], requires_grad=True), Parameter containing:\n",
      "tensor([-1.1378, -0.6773], requires_grad=True)], Cost : 0.000\n",
      "Epoch : 6000, Model : [Parameter containing:\n",
      "tensor([[0.5368, 0.3601],\n",
      "        [0.4068, 0.8913]], requires_grad=True), Parameter containing:\n",
      "tensor([-1.1471, -0.6832], requires_grad=True)], Cost : 0.000\n",
      "Epoch : 7000, Model : [Parameter containing:\n",
      "tensor([[0.5399, 0.3585],\n",
      "        [0.4088, 0.8902]], requires_grad=True), Parameter containing:\n",
      "tensor([-1.1519, -0.6861], requires_grad=True)], Cost : 0.000\n",
      "Epoch : 8000, Model : [Parameter containing:\n",
      "tensor([[0.5415, 0.3577],\n",
      "        [0.4098, 0.8897]], requires_grad=True), Parameter containing:\n",
      "tensor([-1.1543, -0.6876], requires_grad=True)], Cost : 0.000\n",
      "Epoch : 9000, Model : [Parameter containing:\n",
      "tensor([[0.5424, 0.3572],\n",
      "        [0.4103, 0.8895]], requires_grad=True), Parameter containing:\n",
      "tensor([-1.1555, -0.6884], requires_grad=True)], Cost : 0.000\n",
      "Epoch : 10000, Model : [Parameter containing:\n",
      "tensor([[0.5428, 0.3570],\n",
      "        [0.4105, 0.8893]], requires_grad=True), Parameter containing:\n",
      "tensor([-1.1561, -0.6888], requires_grad=True)], Cost : 0.000\n",
      "Epoch : 11000, Model : [Parameter containing:\n",
      "tensor([[0.5430, 0.3569],\n",
      "        [0.4107, 0.8893]], requires_grad=True), Parameter containing:\n",
      "tensor([-1.1565, -0.6890], requires_grad=True)], Cost : 0.000\n",
      "Epoch : 12000, Model : [Parameter containing:\n",
      "tensor([[0.5431, 0.3569],\n",
      "        [0.4107, 0.8892]], requires_grad=True), Parameter containing:\n",
      "tensor([-1.1566, -0.6891], requires_grad=True)], Cost : 0.000\n",
      "Epoch : 13000, Model : [Parameter containing:\n",
      "tensor([[0.5431, 0.3568],\n",
      "        [0.4108, 0.8892]], requires_grad=True), Parameter containing:\n",
      "tensor([-1.1567, -0.6891], requires_grad=True)], Cost : 0.000\n",
      "Epoch : 14000, Model : [Parameter containing:\n",
      "tensor([[0.5432, 0.3568],\n",
      "        [0.4108, 0.8892]], requires_grad=True), Parameter containing:\n",
      "tensor([-1.1567, -0.6892], requires_grad=True)], Cost : 0.000\n",
      "Epoch : 15000, Model : [Parameter containing:\n",
      "tensor([[0.5432, 0.3568],\n",
      "        [0.4108, 0.8892]], requires_grad=True), Parameter containing:\n",
      "tensor([-1.1567, -0.6892], requires_grad=True)], Cost : 0.000\n",
      "Epoch : 16000, Model : [Parameter containing:\n",
      "tensor([[0.5432, 0.3568],\n",
      "        [0.4108, 0.8892]], requires_grad=True), Parameter containing:\n",
      "tensor([-1.1567, -0.6892], requires_grad=True)], Cost : 0.000\n",
      "Epoch : 17000, Model : [Parameter containing:\n",
      "tensor([[0.5432, 0.3568],\n",
      "        [0.4108, 0.8892]], requires_grad=True), Parameter containing:\n",
      "tensor([-1.1567, -0.6892], requires_grad=True)], Cost : 0.000\n",
      "Epoch : 18000, Model : [Parameter containing:\n",
      "tensor([[0.5432, 0.3568],\n",
      "        [0.4108, 0.8892]], requires_grad=True), Parameter containing:\n",
      "tensor([-1.1567, -0.6892], requires_grad=True)], Cost : 0.000\n",
      "Epoch : 19000, Model : [Parameter containing:\n",
      "tensor([[0.5432, 0.3568],\n",
      "        [0.4108, 0.8892]], requires_grad=True), Parameter containing:\n",
      "tensor([-1.1567, -0.6892], requires_grad=True)], Cost : 0.000\n",
      "Epoch : 20000, Model : [Parameter containing:\n",
      "tensor([[0.5432, 0.3568],\n",
      "        [0.4108, 0.8892]], requires_grad=True), Parameter containing:\n",
      "tensor([-1.1567, -0.6892], requires_grad=True)], Cost : 0.000\n"
     ]
    }
   ],
   "source": [
    "import torch\n",
    "from torch import nn\n",
    "from torch import optim\n",
    "from torch.utils.data import TensorDataset, DataLoader \n",
    "\n",
    "\n",
    "train_x = torch.FloatTensor([\n",
    "    [1, 2], [2, 3], [3, 4], [4, 5], [5, 6], [6, 7]\n",
    "])\n",
    "train_y = torch.FloatTensor([\n",
    "    [0.1, 1.5], [1, 2.8], [1.9, 4.1], [2.8, 5.4], [3.7, 6.7], [4.6, 8]\n",
    "])\n",
    "\n",
    "\n",
    "train_dataset = TensorDataset(train_x, train_y)\n",
    "train_dataloader = DataLoader(train_dataset, batch_size=2, shuffle=True, drop_last=True)\n",
    "\n",
    "model = nn.Linear(2, 2, bias=True)\n",
    "criterion = nn.MSELoss()\n",
    "lr = 0.001\n",
    "\n",
    "optimizer = optim.SGD(model.parameters(), lr=lr)\n",
    "\n",
    "for epoch in range(20000):\n",
    "    cost = 0.0\n",
    "    \n",
    "    for batch in train_dataloader:\n",
    "        x, y = batch\n",
    "        output = model(x)\n",
    "        \n",
    "        loss = criterion(output, y)\n",
    "        \n",
    "        optimizer.zero_grad()\n",
    "        loss.backward()\n",
    "        optimizer.step()\n",
    "        \n",
    "        cost += loss\n",
    "\n",
    "    cost = cost / len(train_dataloader)\n",
    "    \n",
    "    if (epoch + 1) % 1000 == 0:\n",
    "        print(f\"Epoch : {epoch+1:4d}, Model : {list(model.parameters())}, Cost : {cost:.3f}\")"
   ]
  }
 ],
 "metadata": {
  "kernelspec": {
   "display_name": "Python 3",
   "language": "python",
   "name": "python3"
  },
  "language_info": {
   "codemirror_mode": {
    "name": "ipython",
    "version": 3
   },
   "file_extension": ".py",
   "mimetype": "text/x-python",
   "name": "python",
   "nbconvert_exporter": "python",
   "pygments_lexer": "ipython3",
   "version": "3.12.4"
  }
 },
 "nbformat": 4,
 "nbformat_minor": 2
}
