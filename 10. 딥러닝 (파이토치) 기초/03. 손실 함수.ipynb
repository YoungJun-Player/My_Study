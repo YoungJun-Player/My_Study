{
 "cells": [
  {
   "cell_type": "markdown",
   "metadata": {},
   "source": [
    "# 03. 손실함수"
   ]
  },
  {
   "cell_type": "markdown",
   "metadata": {},
   "source": [
    "실젯값과 예측값의 차이가 발생했을 떄 오차가 얼마인지 계산하는 함수"
   ]
  },
  {
   "cell_type": "markdown",
   "metadata": {},
   "source": [
    "인공신경망은 실젯값과 예측값을 통해 계산된 오차를 최소화해 정확도를 높이는 방법으로 학습을 진행"
   ]
  },
  {
   "cell_type": "markdown",
   "metadata": {},
   "source": [
    "목적 함수, 비용 함수 라고도 부르기도 한다"
   ]
  },
  {
   "cell_type": "markdown",
   "metadata": {},
   "source": [
    "### 제곱 오차"
   ]
  },
  {
   "cell_type": "markdown",
   "metadata": {},
   "source": [
    "평균 제곱 오차(MSE)방법은 제곱 오차(SE)와 오차 제곱합(SSE)를 활용한다\n",
    "\n",
    "제곱오차는 실젯값에서 예측값을 뺀 제곱을 의미한다"
   ]
  },
  {
   "cell_type": "markdown",
   "metadata": {},
   "source": [
    "제곱이 아닌 절대값으로 오차의 크기를 활용할 수도 있지만 이 방법을 사용하지는 않는다 제곱을 적용하면 오차가 작은 값보다 큰 값을 두드러지게 확대시키기 때문에 오차의 간극을 빠르게 확인 할 수 있다"
   ]
  },
  {
   "cell_type": "markdown",
   "metadata": {},
   "source": [
    "### 오차 제곱합"
   ]
  },
  {
   "cell_type": "markdown",
   "metadata": {},
   "source": [
    "제곱 오차를 모두 더한 값을 의미한다\n",
    "\n",
    "제곱 오차는 각 데이터의 오차를 의미하므로 모델 자체가 얼마나 예측하는지는 알 수 없다"
   ]
  },
  {
   "cell_type": "markdown",
   "metadata": {},
   "source": [
    "### 평균 제곱 오차"
   ]
  },
  {
   "cell_type": "markdown",
   "metadata": {},
   "source": [
    "단순하게 오차 제곱합에서 평균을 취하는 방법이다\n",
    "\n",
    "데이터가 많아질 수록 오차제곱합도 동일하게 커지기 때문에 평균을 사용하는 것이다\n",
    "\n",
    "가설의 품질을 측정할 수 있으며 0에 가까워 질 수록 높은 품질을 갖게된다\n",
    "\n",
    "여기에 루트를 씌우게 되면 평균제곱근오차(RMSE)가 된다"
   ]
  },
  {
   "cell_type": "markdown",
   "metadata": {},
   "source": [
    "### 교차 엔트로피"
   ]
  },
  {
   "cell_type": "markdown",
   "metadata": {},
   "source": [
    "이산형 변수는 교차 엔트로피가  손실 함수로 사용된다\n",
    "\n",
    "실젯값의 확률 분포와 예측값의 확률분포 차이를 계산한다"
   ]
  }
 ],
 "metadata": {
  "language_info": {
   "name": "python"
  }
 },
 "nbformat": 4,
 "nbformat_minor": 2
}
