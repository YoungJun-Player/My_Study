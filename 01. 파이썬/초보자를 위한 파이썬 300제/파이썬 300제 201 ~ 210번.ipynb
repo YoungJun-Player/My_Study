{
 "cells": [
  {
   "cell_type": "markdown",
   "metadata": {},
   "source": [
    "# 201\n",
    "\n",
    "\"비트코인\" 문자열을 화면에 출력하는 print_coin() 함수를 정의하라."
   ]
  },
  {
   "cell_type": "code",
   "execution_count": null,
   "metadata": {},
   "outputs": [],
   "source": [
    "def print_coin():\n",
    "    print(\"비트코인\")"
   ]
  },
  {
   "cell_type": "markdown",
   "metadata": {},
   "source": [
    "# 202\n",
    "\n",
    "201번에서 정의한 함수를 호출하라."
   ]
  },
  {
   "cell_type": "code",
   "execution_count": 11,
   "metadata": {},
   "outputs": [],
   "source": [
    "print_coin()"
   ]
  },
  {
   "cell_type": "markdown",
   "metadata": {},
   "source": [
    "# 203\n",
    "\n",
    "201번에서 정의한 print_coin 함수를 100번호출하라."
   ]
  },
  {
   "cell_type": "code",
   "execution_count": 12,
   "metadata": {},
   "outputs": [],
   "source": [
    "for i in range(100):\n",
    "    print_coin()"
   ]
  },
  {
   "cell_type": "markdown",
   "metadata": {},
   "source": [
    "# 204\n",
    "\n",
    "\"비트코인\" 문자열을 100번 화면에 출력하는 print_coins() 함수를 정의하라."
   ]
  },
  {
   "cell_type": "code",
   "execution_count": 13,
   "metadata": {},
   "outputs": [],
   "source": [
    "def print_coins():\n",
    "    for i in range(100):\n",
    "        print(\"비트코인\")"
   ]
  },
  {
   "cell_type": "markdown",
   "metadata": {},
   "source": [
    "# 205\n",
    "\n",
    "아래의 에러가 발생하는 이유에 대해 설명하라.\n",
    "\n",
    "hello()\n",
    "def hello():\n",
    "    print(\"Hi\")\n",
    "실행 예\n",
    "\n",
    "NameError: name 'hello' is not defined"
   ]
  },
  {
   "cell_type": "code",
   "execution_count": null,
   "metadata": {},
   "outputs": [],
   "source": [
    "'함수가 정의되기 전에 호출되어서 에러가 발생합니다.'"
   ]
  },
  {
   "cell_type": "markdown",
   "metadata": {},
   "source": [
    "# 206\n",
    "\n",
    "아래 코드의 실행 결과를 예측하라.\n",
    "\n",
    "def message() :\n",
    "    print(\"A\")\n",
    "    print(\"B\")\n",
    "\n",
    "message()\n",
    "print(\"C\")\n",
    "message()"
   ]
  },
  {
   "cell_type": "code",
   "execution_count": null,
   "metadata": {},
   "outputs": [],
   "source": [
    "A\n",
    "B\n",
    "C\n",
    "A\n",
    "B"
   ]
  },
  {
   "cell_type": "markdown",
   "metadata": {},
   "source": [
    "# 207\n",
    "\n",
    "아래 코드의 실행 결과를 예측하라. (읽기 어려운 코드의 예입니다.)\n",
    "\n",
    "print(\"A\")\n",
    "\n",
    "def message() :\n",
    "    print(\"B\")\n",
    "\n",
    "print(\"C\")\n",
    "message()"
   ]
  },
  {
   "cell_type": "code",
   "execution_count": null,
   "metadata": {},
   "outputs": [],
   "source": [
    "A\n",
    "C\n",
    "B"
   ]
  },
  {
   "cell_type": "markdown",
   "metadata": {},
   "source": [
    "# 208\n",
    "\n",
    "아래 코드의 실행 결과를 예측하라. (읽기 어려운 코드의 예입니다.)\n",
    "\n",
    "print(\"A\")\n",
    "def message1() :\n",
    "    print(\"B\")\n",
    "print(\"C\")\n",
    "def message2() :\n",
    "    print(\"D\")\n",
    "message1()\n",
    "print(\"E\")\n",
    "message2()"
   ]
  },
  {
   "cell_type": "code",
   "execution_count": null,
   "metadata": {},
   "outputs": [],
   "source": [
    "A\n",
    "C\n",
    "B\n",
    "E\n",
    "D"
   ]
  },
  {
   "cell_type": "markdown",
   "metadata": {},
   "source": [
    "# 209\n",
    "\n",
    "def message1():\n",
    "    print(\"A\")\n",
    "\n",
    "def message2():\n",
    "    print(\"B\")\n",
    "    message1()\n",
    "\n",
    "message2()"
   ]
  },
  {
   "cell_type": "code",
   "execution_count": null,
   "metadata": {},
   "outputs": [],
   "source": [
    "B\n",
    "A"
   ]
  },
  {
   "cell_type": "markdown",
   "metadata": {},
   "source": [
    "# 210\n",
    "\n",
    "아래 코드의 실행 결과를 예측하라.\n",
    "\n",
    "def message1():\n",
    "    print(\"A\")\n",
    "\n",
    "def message2():\n",
    "    print(\"B\")\n",
    "\n",
    "def message3():\n",
    "    for i in range (3) :\n",
    "        message2()\n",
    "        print(\"C\")\n",
    "    message1()\n",
    "\n",
    "message3()"
   ]
  },
  {
   "cell_type": "code",
   "execution_count": null,
   "metadata": {},
   "outputs": [],
   "source": [
    "B\n",
    "C\n",
    "B\n",
    "C\n",
    "B\n",
    "C\n",
    "A"
   ]
  }
 ],
 "metadata": {
  "kernelspec": {
   "display_name": "yeardream",
   "language": "python",
   "name": "python3"
  },
  "language_info": {
   "codemirror_mode": {
    "name": "ipython",
    "version": 3
   },
   "file_extension": ".py",
   "mimetype": "text/x-python",
   "name": "python",
   "nbconvert_exporter": "python",
   "pygments_lexer": "ipython3",
   "version": "3.12.1"
  }
 },
 "nbformat": 4,
 "nbformat_minor": 2
}
