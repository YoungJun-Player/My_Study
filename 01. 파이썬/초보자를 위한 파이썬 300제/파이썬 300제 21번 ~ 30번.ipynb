{
 "cells": [
  {
   "cell_type": "markdown",
   "metadata": {},
   "source": [
    "# 021 \n",
    "\n",
    "문자열 인덱싱\n",
    "\n",
    "letters가 바인딩하는 문자열에서 첫번째와 세번째 문자를 출력하세요.\n",
    "\n",
    ">> letters = 'python'\n",
    "\n",
    "실행 예\n",
    "p t"
   ]
  },
  {
   "cell_type": "code",
   "execution_count": null,
   "metadata": {},
   "outputs": [],
   "source": [
    "lang = 'python'\n",
    "\n",
    "print(lang[0], lang[2])"
   ]
  },
  {
   "cell_type": "markdown",
   "metadata": {},
   "source": [
    "# 022 \n",
    "\n",
    "문자열 슬라이싱\n",
    "\n",
    "자동차 번호가 다음과 같을 때 뒤에 4자리만 출력하세요.\n",
    "\n",
    ">> license_plate = \"24가 2210\"\n",
    "\n",
    "실행 예: 2210"
   ]
  },
  {
   "cell_type": "code",
   "execution_count": null,
   "metadata": {},
   "outputs": [],
   "source": [
    "license_plate = \"24가 2210\"\n",
    "\n",
    "print(license_plate[-4:])"
   ]
  },
  {
   "cell_type": "markdown",
   "metadata": {},
   "source": [
    "# 023 \n",
    "\n",
    "문자열 인덱싱\n",
    "\n",
    "아래의 문자열에서 '홀' 만 출력하세요.\n",
    "\n",
    ">> string = \"홀짝홀짝홀짝\"\n",
    "\n",
    "실행 예:\n",
    "홀홀홀"
   ]
  },
  {
   "cell_type": "code",
   "execution_count": null,
   "metadata": {},
   "outputs": [],
   "source": [
    "string = \"홀짝홀짝홀짝\"\n",
    "\n",
    "print(string[::2])"
   ]
  },
  {
   "cell_type": "markdown",
   "metadata": {},
   "source": [
    "# 024 \n",
    "\n",
    "문자열 슬라이싱\n",
    "\n",
    "문자열을 거꾸로 뒤집어 출력하세요.\n",
    "\n",
    ">> string = \"PYTHON\"\n",
    "\n",
    "실행 예:\n",
    "NOHTYP"
   ]
  },
  {
   "cell_type": "code",
   "execution_count": null,
   "metadata": {},
   "outputs": [],
   "source": [
    "string = \"PYTHON\"\n",
    "\n",
    "print(string[::-1])"
   ]
  },
  {
   "cell_type": "markdown",
   "metadata": {},
   "source": [
    "# 025 \n",
    "\n",
    "문자열 치환\n",
    "\n",
    "아래의 전화번호에서 하이푼 ('-')을 제거하고 출력하세요.\n",
    "\n",
    ">> phone_number = \"010-1111-2222\"\n",
    "\n",
    "실행 예\n",
    "010 1111 2222"
   ]
  },
  {
   "cell_type": "code",
   "execution_count": null,
   "metadata": {},
   "outputs": [],
   "source": [
    "phone_number = \"010-1111-2222\"\n",
    "\n",
    "phone_number1 = phone_number.replace(\"-\", \" \")\n",
    "\n",
    "print(phone_number1)"
   ]
  },
  {
   "cell_type": "markdown",
   "metadata": {},
   "source": [
    "# 026 \n",
    "\n",
    "문자열 다루기\n",
    "\n",
    "25번 문제의 전화번호를 아래와 같이 모두 붙여 출력하세요.\n",
    "\n",
    "실행 예\n",
    "01011112222\n"
   ]
  },
  {
   "cell_type": "code",
   "execution_count": null,
   "metadata": {},
   "outputs": [],
   "source": [
    "phone_number = \"010-1111-2222\"\n",
    "\n",
    "phone_number1 = phone_number.replace('-', '')\n",
    "\n",
    "print(phone_number1)"
   ]
  },
  {
   "cell_type": "markdown",
   "metadata": {},
   "source": [
    "# 027 \n",
    "\n",
    "문자열 다루기\n",
    "\n",
    "url 에 저장된 웹 페이지 주소에서 도메인을 출력하세요.\n",
    "\n",
    ">> url = \"http://sharebook.kr\"\n",
    "\n",
    "실행 예:\n",
    "kr"
   ]
  },
  {
   "cell_type": "code",
   "execution_count": null,
   "metadata": {},
   "outputs": [],
   "source": [
    "url = \"http://sharebook.kr\"\n",
    "\n",
    "url_split = url.split('.')\n",
    "\n",
    "print(url_split[-1])"
   ]
  },
  {
   "cell_type": "markdown",
   "metadata": {},
   "source": [
    "#028 \n",
    "\n",
    "문자열은 immutable\n",
    "\n",
    "아래 코드의 실행 결과를 예상해보세요.\n",
    "\n",
    ">> lang = 'python'\n",
    ">> lang[0] = 'P'\n",
    ">> print(lang)"
   ]
  },
  {
   "cell_type": "markdown",
   "metadata": {},
   "source": [
    "정답 : 수정 불가"
   ]
  },
  {
   "cell_type": "markdown",
   "metadata": {},
   "source": [
    "# 029 \n",
    "\n",
    "replace 메서드\n",
    "\n",
    "아래 문자열에서 소문자 'a'를 대문자 'A'로 변경하세요.\n",
    "\n",
    ">> string = 'abcdfe2a354a32a'\n",
    "\n",
    "실행 예:\n",
    "Abcdfe2A354A32A"
   ]
  },
  {
   "cell_type": "code",
   "execution_count": null,
   "metadata": {},
   "outputs": [],
   "source": [
    "string = 'abcdfe2a354a32a'\n",
    "\n",
    "string = string.replace('a', 'A')\n",
    "\n",
    "print(string)"
   ]
  },
  {
   "cell_type": "markdown",
   "metadata": {},
   "source": [
    "# 030 \n",
    "\n",
    "eplace 메서드\n",
    "\n",
    "아래 코드의 실행 결과를 예상해보세요.\n",
    "\n",
    ">> string = 'abcd'\n",
    ">> string.replace('b', 'B')\n",
    ">> print(string)"
   ]
  },
  {
   "cell_type": "markdown",
   "metadata": {},
   "source": [
    "정답 : abcd"
   ]
  }
 ],
 "metadata": {
  "language_info": {
   "name": "python"
  }
 },
 "nbformat": 4,
 "nbformat_minor": 2
}
