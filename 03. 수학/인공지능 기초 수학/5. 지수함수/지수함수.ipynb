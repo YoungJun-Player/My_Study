{
 "cells": [
  {
   "cell_type": "markdown",
   "metadata": {},
   "source": [
    " # 지수함수"
   ]
  },
  {
   "cell_type": "code",
   "execution_count": 1,
   "metadata": {},
   "outputs": [],
   "source": [
    "import math"
   ]
  },
  {
   "cell_type": "markdown",
   "metadata": {},
   "source": [
    "math.pow(x, y) : x의 y 제곱\n",
    "\n",
    "math.sqrt(x) : x의 제곱근\n",
    "\n",
    "math.exp(x) : e(자연상수, 2.718...)의 x 제곱"
   ]
  },
  {
   "cell_type": "code",
   "execution_count": 2,
   "metadata": {},
   "outputs": [
    {
     "name": "stdout",
     "output_type": "stream",
     "text": [
      "pow의 결과:  32.0\n",
      "sqrt의 결과:  1.4142135623730951\n",
      "exp의 결과:  7.38905609893065\n"
     ]
    }
   ],
   "source": [
    "# 2의 5제곱\n",
    "pow = math.pow(2,5)\n",
    "print('pow의 결과: ', pow)\n",
    "\n",
    "# 2의 제곱근\n",
    "sqrt = math.sqrt(2)\n",
    "print('sqrt의 결과: ',sqrt)\n",
    "\n",
    "# e의 2 제곱\n",
    "exp = math.exp(2)\n",
    "print('exp의 결과: ',exp)"
   ]
  }
 ],
 "metadata": {
  "kernelspec": {
   "display_name": "yeardream",
   "language": "python",
   "name": "python3"
  },
  "language_info": {
   "codemirror_mode": {
    "name": "ipython",
    "version": 3
   },
   "file_extension": ".py",
   "mimetype": "text/x-python",
   "name": "python",
   "nbconvert_exporter": "python",
   "pygments_lexer": "ipython3",
   "version": "3.9.19"
  }
 },
 "nbformat": 4,
 "nbformat_minor": 2
}
