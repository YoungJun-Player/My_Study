{
 "cells": [
  {
   "cell_type": "code",
   "execution_count": 4,
   "metadata": {},
   "outputs": [],
   "source": [
    "from sympy import Symbol, solve"
   ]
  },
  {
   "cell_type": "markdown",
   "metadata": {},
   "source": [
    "# 방정식\n",
    "\n",
    "다음 방정식의 해를 구하세요\n",
    "\n",
    "(1) 4 = k - 2\n",
    "(2) 10 = 2K\n",
    "(3) k / 2 = 8"
   ]
  },
  {
   "cell_type": "code",
   "execution_count": 5,
   "metadata": {},
   "outputs": [
    {
     "data": {
      "text/plain": [
       "[6]"
      ]
     },
     "execution_count": 5,
     "metadata": {},
     "output_type": "execute_result"
    }
   ],
   "source": [
    "# (1) 4 = k - 2\n",
    "\n",
    "k = Symbol('k')\n",
    "equation = k-2-4    #(일차방정식) = 0 형태로 만들어주어야 함\n",
    "solve(equation)"
   ]
  },
  {
   "cell_type": "code",
   "execution_count": 7,
   "metadata": {},
   "outputs": [
    {
     "data": {
      "text/plain": [
       "[5]"
      ]
     },
     "execution_count": 7,
     "metadata": {},
     "output_type": "execute_result"
    }
   ],
   "source": [
    "# (2) 10 = 2K\n",
    "\n",
    "k = Symbol('k')\n",
    "equation = 2*k - 10     #(일차방정식) = 0 형태로 만들어주어야 함\n",
    "solve(equation)"
   ]
  },
  {
   "cell_type": "code",
   "execution_count": 8,
   "metadata": {},
   "outputs": [
    {
     "data": {
      "text/plain": [
       "[16]"
      ]
     },
     "execution_count": 8,
     "metadata": {},
     "output_type": "execute_result"
    }
   ],
   "source": [
    "# (3) k / 2 = 8\n",
    "\n",
    "k = Symbol('k')\n",
    "equation = k / 2 - 8 #(일차방정식) = 0 형태로 만들어주어야 함\n",
    "solve(equation)"
   ]
  },
  {
   "cell_type": "markdown",
   "metadata": {},
   "source": [
    "# 연립방정식\n",
    "\n",
    "3x + y = 2\n",
    "\n",
    "\n",
    "x - 2y = 3"
   ]
  },
  {
   "cell_type": "code",
   "execution_count": 11,
   "metadata": {},
   "outputs": [
    {
     "data": {
      "text/plain": [
       "[{x: 1, y: -1}]"
      ]
     },
     "execution_count": 11,
     "metadata": {},
     "output_type": "execute_result"
    }
   ],
   "source": [
    "x = Symbol('x')\n",
    "y = Symbol('y')\n",
    "\n",
    "equation1 = 3 * x + y - 2\n",
    "equation2 = x - 2 * y - 3\n",
    "\n",
    "solve((equation1, equation2), dict=True)  #해를 딕셔너리 형태로 반환"
   ]
  }
 ],
 "metadata": {
  "kernelspec": {
   "display_name": "yeardream",
   "language": "python",
   "name": "python3"
  },
  "language_info": {
   "codemirror_mode": {
    "name": "ipython",
    "version": 3
   },
   "file_extension": ".py",
   "mimetype": "text/x-python",
   "name": "python",
   "nbconvert_exporter": "python",
   "pygments_lexer": "ipython3",
   "version": "3.9.19"
  }
 },
 "nbformat": 4,
 "nbformat_minor": 2
}
