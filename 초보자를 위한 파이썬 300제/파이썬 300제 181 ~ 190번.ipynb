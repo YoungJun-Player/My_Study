{
 "cells": [
  {
   "cell_type": "markdown",
   "metadata": {},
   "source": [
    "# 181\n",
    "\n",
    "아래 표에서 하나의 행을 하나의 리스트로, 총 3개의 리스트를 갖는 이차원 리스트 apart를 정의하라.\n",
    "\n",
    "101호\t102호\n",
    "201호\t202호\n",
    "301호\t302호"
   ]
  },
  {
   "cell_type": "code",
   "execution_count": null,
   "metadata": {},
   "outputs": [],
   "source": [
    "apart = [ [\"101호\", \"102호\"], [\"201호\", \"202호\"], [\"301호\", \"302호\"] ]"
   ]
  },
  {
   "cell_type": "markdown",
   "metadata": {},
   "source": [
    "# 182\n",
    "\n",
    "아래 표에서 하나의 열을 하나의 리스트로, 총 2개의 리스트를 갖는 이차원 리스트 stock을 정의하라.\n",
    "\n",
    "시가\t종가\n",
    "100\t80\n",
    "200\t210\n",
    "300\t330"
   ]
  },
  {
   "cell_type": "code",
   "execution_count": 11,
   "metadata": {},
   "outputs": [],
   "source": [
    "stock = [ [\"시가\", 100, 200, 300], [\"종가\", 80, 210, 330] ]"
   ]
  },
  {
   "cell_type": "markdown",
   "metadata": {},
   "source": [
    "# 183\n",
    "\n",
    "아래 표를 stock 이름의 딕셔너리로 표현하라.시가를 key로 저장하고, 나머지 같은 열의 데이터를 리스트로 저장해서 value로 저장한다. 종가 역시 key로 저장하고 나머지 같은 열의 데이터를 리스트로 저장해서 value로 저장한다.\n",
    "\n",
    "시가\t종가\n",
    "100\t80\n",
    "200\t210\n",
    "300\t330"
   ]
  },
  {
   "cell_type": "code",
   "execution_count": 12,
   "metadata": {},
   "outputs": [],
   "source": [
    "stock = {\"시가\": [100, 200, 300], \"종가\": [80, 210, 330] }"
   ]
  },
  {
   "cell_type": "markdown",
   "metadata": {},
   "source": [
    "# 184\n",
    "\n",
    "아래 표를 stock 이라는 이름의 딕셔너리로 표현하라. 날짜를 key로 저장하고, 나머지 같은 행의 데이터를 리스트로 저장해서 value로 저장한다. 첫 열이 날짜이다.\n",
    "\n",
    "10/10\t80\t110\t70\t90\n",
    "10/11\t210\t230\t190\t200"
   ]
  },
  {
   "cell_type": "code",
   "execution_count": 13,
   "metadata": {},
   "outputs": [],
   "source": [
    "stock = {\"10/10\": [80, 110, 70, 90], \"10/11\": [210, 230, 190, 200] }"
   ]
  },
  {
   "cell_type": "markdown",
   "metadata": {},
   "source": [
    "# 185\n",
    "\n",
    "리스트에 저장된 데이터를 아래와 같이 출력하라.\n",
    "\n",
    "apart = [ [101, 102], [201, 202], [301, 302] ]\n",
    "101 호\n",
    "102 호\n",
    "201 호\n",
    "202 호\n",
    "301 호\n",
    "302 호"
   ]
  },
  {
   "cell_type": "code",
   "execution_count": 15,
   "metadata": {},
   "outputs": [],
   "source": [
    "for row in apart:\n",
    "    for col in row:\n",
    "        print(col, \"호\")"
   ]
  },
  {
   "cell_type": "markdown",
   "metadata": {},
   "source": [
    "# 186\n",
    "\n",
    "리스트에 저장된 데이터를 아래와 같이 출력하라.\n",
    "\n",
    "apart = [ [101, 102], [201, 202], [301, 302] ]\n",
    "301 호\n",
    "302 호\n",
    "201 호\n",
    "202 호\n",
    "101 호\n",
    "102 호"
   ]
  },
  {
   "cell_type": "code",
   "execution_count": null,
   "metadata": {},
   "outputs": [],
   "source": [
    "for row in apart[::-1]:\n",
    "    for col in row:\n",
    "        print(col, \"호\")"
   ]
  },
  {
   "cell_type": "markdown",
   "metadata": {},
   "source": [
    "# 187\n",
    "\n",
    "리스트에 저장된 데이터를 아래와 같이 출력하라.\n",
    "\n",
    "apart = [ [101, 102], [201, 202], [301, 302] ]\n",
    "302 호\n",
    "301 호\n",
    "202 호\n",
    "201 호\n",
    "102 호\n",
    "101 호"
   ]
  },
  {
   "cell_type": "code",
   "execution_count": null,
   "metadata": {},
   "outputs": [],
   "source": [
    "for row in apart[::-1]:\n",
    "    for col in row[::-1]:\n",
    "        print(col, \"호\")"
   ]
  },
  {
   "cell_type": "markdown",
   "metadata": {},
   "source": [
    "# 188\n",
    "\n",
    "리스트에 저장된 데이터를 아래와 같이 출력하라.\n",
    "\n",
    "apart = [ [101, 102], [201, 202], [301, 302] ]\n",
    "101 호\n",
    "-----\n",
    "102 호\n",
    "-----\n",
    "201 호\n",
    "-----\n",
    "202 호\n",
    "-----\n",
    "301 호\n",
    "-----\n",
    "302 호\n",
    "-----"
   ]
  },
  {
   "cell_type": "code",
   "execution_count": null,
   "metadata": {},
   "outputs": [],
   "source": [
    "for row in apart:\n",
    "    for col in row:\n",
    "        print(col, \"호\")\n",
    "        print(\"-\" * 5)"
   ]
  },
  {
   "cell_type": "markdown",
   "metadata": {},
   "source": [
    "# 189\n",
    "\n",
    "리스트에 저장된 데이터를 아래와 같이 출력하라.\n",
    "\n",
    "apart = [ [101, 102], [201, 202], [301, 302] ]\n",
    "101 호\n",
    "102 호\n",
    "-----\n",
    "201 호\n",
    "202 호\n",
    "-----\n",
    "301 호\n",
    "302 호\n",
    "-----"
   ]
  },
  {
   "cell_type": "code",
   "execution_count": null,
   "metadata": {},
   "outputs": [],
   "source": [
    "for row in apart:\n",
    "    for col in row:\n",
    "        print(col, \"호\")\n",
    "    print(\"-----\")"
   ]
  },
  {
   "cell_type": "markdown",
   "metadata": {},
   "source": [
    "# 190\n",
    "\n",
    "리스트에 저장된 데이터를 아래와 같이 출력하라.\n",
    "\n",
    "apart = [ [101, 102], [201, 202], [301, 302] ]\n",
    "101 호\n",
    "102 호\n",
    "201 호\n",
    "202 호\n",
    "301 호\n",
    "302 호\n",
    "-----"
   ]
  },
  {
   "cell_type": "code",
   "execution_count": null,
   "metadata": {},
   "outputs": [],
   "source": [
    "for row in apart:\n",
    "    for col in row:\n",
    "        print(col, \"호\")\n",
    "print(\"-\" * 5)"
   ]
  }
 ],
 "metadata": {
  "kernelspec": {
   "display_name": "yeardream",
   "language": "python",
   "name": "python3"
  },
  "language_info": {
   "codemirror_mode": {
    "name": "ipython",
    "version": 3
   },
   "file_extension": ".py",
   "mimetype": "text/x-python",
   "name": "python",
   "nbconvert_exporter": "python",
   "pygments_lexer": "ipython3",
   "version": "3.12.1"
  }
 },
 "nbformat": 4,
 "nbformat_minor": 2
}
