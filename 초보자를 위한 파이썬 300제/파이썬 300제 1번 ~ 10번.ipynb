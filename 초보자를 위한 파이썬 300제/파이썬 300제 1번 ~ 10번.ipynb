{
 "cells": [
  {
   "cell_type": "code",
   "execution_count": null,
   "metadata": {},
   "outputs": [],
   "source": [
    "#001 print 기초\n",
    "\n",
    "#화면에 Hello World 문자열을 출력하세요.\n",
    "\n",
    "print(\"Hello World\")"
   ]
  },
  {
   "cell_type": "code",
   "execution_count": null,
   "metadata": {},
   "outputs": [],
   "source": [
    "#002 print 기초\n",
    "\n",
    "#화면에 Mary's cosmetics을 출력하세요. (중간에 '가 있음에 주의하세요)\n",
    "\n",
    "print(\"Mary's cosmetics\")"
   ]
  },
  {
   "cell_type": "code",
   "execution_count": null,
   "metadata": {},
   "outputs": [],
   "source": [
    "#003 print 기초\n",
    "\n",
    "#화면에 아래 문장을 출력하세요. (중간에 \"가 있음에 주의하세요.)\n",
    "\n",
    "#신씨가 소리질렀다. \"도둑이야\".\n",
    "\n",
    "print('신씨가 소리질렀다. \"도둑이야\"')"
   ]
  },
  {
   "cell_type": "code",
   "execution_count": null,
   "metadata": {},
   "outputs": [],
   "source": [
    "#004 print 기초\n",
    "\n",
    "#화면에 C:\\Windows를 출력하세요.\n",
    "\n",
    "print(\"C:\\Windows\")"
   ]
  },
  {
   "cell_type": "code",
   "execution_count": null,
   "metadata": {},
   "outputs": [],
   "source": [
    "#005 print 탭과 줄바꿈\n",
    "\n",
    "#다음 코드를 실행해보고 \\t와 \\n의 역할을 설명해보세요.\n",
    "\n",
    "#print(\"안녕하세요.\\n만나서\\t\\t반갑습니다.\")\n",
    "\n",
    "# 정답 : `\\t`는 탭을 의미하고 `\\n'`은 줄바꿈을 의미합니다."
   ]
  },
  {
   "cell_type": "code",
   "execution_count": null,
   "metadata": {},
   "outputs": [],
   "source": [
    "#006 print 여러 데이터 출력\n",
    "\n",
    "#print 함수에 두 개의 단어를 입력한 예제입니다. 아래 코드의 출력 결과를 예상해봅시다.\n",
    "\n",
    "#print (\"오늘은\", \"일요일\")\n",
    "\n",
    "# 정답 : 여러 값을 출력하려면 print 함수에서 쉼표로 구분해주면 됩니다. 따라서 오늘은 다음에 공백이 하나 있고 일요일이 출력됩니다."
   ]
  },
  {
   "cell_type": "code",
   "execution_count": null,
   "metadata": {},
   "outputs": [],
   "source": [
    "#007 print 기초\n",
    "\n",
    "#print() 함수를 사용하여 다음과 같이 출력하세요.\n",
    "\n",
    "#naver;kakao;sk;samsung\n",
    "\n",
    "print(\"naver\", \"kakao\", \"samsung\", sep=\";\")\n"
   ]
  },
  {
   "cell_type": "code",
   "execution_count": null,
   "metadata": {},
   "outputs": [],
   "source": [
    "#008 print 기초\n",
    "\n",
    "#print() 함수를 사용하여 다음과 같이 출력하세요.\n",
    "\n",
    "#naver/kakao/sk/samsung\n",
    "\n",
    "print(\"naver\", \"kakao\", \"samsung\", sep=\"/\")"
   ]
  },
  {
   "cell_type": "code",
   "execution_count": null,
   "metadata": {},
   "outputs": [],
   "source": [
    "#009 print 줄바꿈\n",
    "\n",
    "#다음 코드를 수정하여 줄바꿈이 없이 출력하세요. (힌트: end='') print 함수는 두 번 사용합니다. 세미콜론 (;)은 한줄에 여러 개의 명령을 작성하기 위해 사용합니다.\n",
    "\n",
    "#print(\"first\");print(\"second\")\n",
    "\n",
    "print(\"first\", end=\"\"); print(\"second\")"
   ]
  },
  {
   "cell_type": "code",
   "execution_count": null,
   "metadata": {},
   "outputs": [],
   "source": [
    "# 010 연산 결과 출력\n",
    "\n",
    "# 5/3의 결과를 화면에 출력하세요.\n",
    "\n",
    "print(5/3)"
   ]
  }
 ],
 "metadata": {
  "language_info": {
   "name": "python"
  }
 },
 "nbformat": 4,
 "nbformat_minor": 2
}
