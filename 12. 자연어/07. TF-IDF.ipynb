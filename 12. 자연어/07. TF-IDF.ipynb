{
 "cells": [
  {
   "cell_type": "markdown",
   "metadata": {},
   "source": [
    "# 07. TF-IDF"
   ]
  },
  {
   "cell_type": "markdown",
   "metadata": {},
   "source": [
    "TF-IDF(Term Frequency-Inverse Document Frequency)란 텍스트 문서에서 특정 단어의 중요도를 계산하는 방법으로 문서 내에서 단어의 중요도를 평가하는 데 사용되는 통계적인 가중치를 의미한다\n",
    "\n",
    "즉 TF-IDF는 BoW(Bag-of-Words)에 가중치를 부여하는 방법이다\n"
   ]
  },
  {
   "cell_type": "markdown",
   "metadata": {},
   "source": [
    "BoW는 문서나 문장을 단어의 집합으로 표현하는 방법으로, 문서나 문장에 등장하는 단어의 중복을 허용해 빈도를 기록한다\n",
    "\n",
    "원-핫 인코딩은 단어의 등장 여부를 판별해 0과 1로 표현하는 방식이지만 BoW는 등장 빈도를 고려해 표현한다\n",
    "\n",
    "BoW를 이용해 벡터화 하는 경우 모든 단어는 동일한 가중치를 갖는다 BoW 벡터를 활용해 영화 리뷰의 긍/부정 분류 모델을 만든다고 가정하면 좋은 성능을 얻기는 어렵다"
   ]
  },
  {
   "cell_type": "markdown",
   "metadata": {},
   "source": [
    "### 단어 빈도"
   ]
  },
  {
   "cell_type": "markdown",
   "metadata": {},
   "source": [
    "단어 빈도(Term Frequency)란 문서 내에서 특정 단어의 빈도 수를 나타내는 값이다\n",
    "\n",
    "BoW 벡터 표현 방법과 같이 문서 내에서 단어가 등장한 빈도수를 계산하며, 해당 단어의 상대적인 중요도를 측정하는 데 사용된다\n",
    "\n",
    "TF값이 높을 수록 해당 단어가 특정 문서에서 중요한 역할을 한다고 생각 할 수 있지만, 단어 자체가 특정 문서에서 자주 사용되는 단어이므로 전문 용어나 관용어로 간주할 수 있다\n",
    "\n",
    "TF는 단순히 단어의 등장 빈도수를 계산하기 때문에 문서의 길이가 길어질수록 해당 단어의 TF 값도 높아질 수 있다\n"
   ]
  },
  {
   "cell_type": "markdown",
   "metadata": {},
   "source": [
    "### 문서 빈도"
   ]
  },
  {
   "cell_type": "markdown",
   "metadata": {},
   "source": [
    "문서 빈도(Document Frequency, DF)란 한 단어가 얼마나 많은 문서에 나타나는지를 의미한다\n",
    "\n",
    "특정 단어가 많은 문서에 나타나면 문서 집합에서 단어가 나타나는 횟수를 계산한다\n",
    "\n",
    "DF는 단어가 몇 개의 문서에서 등장하는지 계산한다\n",
    "\n",
    "DF값이 높으면 특정 단어가 많은 문서에서 등장한다고 볼 수 있다\n",
    "\n",
    "그 단어는 일반적으로 널리 사용되며, 중요도가 낮을 수 있다\n",
    "\n",
    "반대로 DF 값이 낮다면 특정 단어가 적은 수의 문서에만 등장한다는 뜻이다\n",
    "\n",
    "그러므로 특정한 문맥에서만 사용되는 단어일 가능성이 있으며, 중요도가 높을 수 있다"
   ]
  },
  {
   "cell_type": "markdown",
   "metadata": {},
   "source": [
    "### 역문서 빈도"
   ]
  },
  {
   "cell_type": "markdown",
   "metadata": {},
   "source": [
    "역문서 빈도(Inverse Document Frequency, IDF)란 전체 문서 수를 문서 빈도로 나눈 다음에 로그를 취한 값을 말한다\n",
    "\n",
    "이는 문서 내에서 특정 단어가 얼마나 중요한지를 나타낸다\n",
    "\n",
    "문서 빈도가 높을 수록 해당 단어가 일반적이고 상대적으로 중요하지 않다는 의미가 된다\n",
    "\n",
    "그러므로 문서 빈도의 역수를 취하면 단어의 빈도수가 적을 수록 IDF 값이 커지게 보정하는 역할을 한다\n",
    "\n",
    "이를 통해 문서에서 특정 단어의 등장 횟수가 적으면 IDF는 상대적으로 커진다"
   ]
  },
  {
   "cell_type": "markdown",
   "metadata": {},
   "source": [
    "IDF는 DF 값에 1을 더한 값을 사용한다 \n",
    "\n",
    "특정 단어가 한 번도 등장하지 않는다면 분모가 0이 되는 경우가 발생한다\n",
    "\n",
    "그러므로 1과 같은 작은 값을 더해 분모가 0이 되는 결과를 방지한다\n",
    "\n",
    "IDF는 로그를 취한다\n",
    "\n",
    "전체 문서 수를 빈도로 나눈 값을 사용한다면 너무 큰 값이 나올 수 있다\n",
    "\n",
    "10000개의 문서에서 특정 단어가 1번만 등장한다면 IDF값은 5000이 된다 \n",
    "\n",
    "이러한 문제를 방지하고자 로그를 취해 정교한 가중치를 얻는다"
   ]
  },
  {
   "cell_type": "markdown",
   "metadata": {},
   "source": [
    "### TF-IDF"
   ]
  },
  {
   "cell_type": "markdown",
   "metadata": {},
   "source": [
    "TF-IDF는 앞선 문서 빈도와 역문서 빈도를 곱한 값으로 사용한다\n",
    "\n",
    "문서 내에 단어가 자주 등장하지만 전체 문서 내에 해당 단어가 적게 등장한다면 TF-IDF 값은 커진다\n",
    "\n",
    "그러므로 전체 문서에서 자주 등장할 확률이 높은 관사나 관용어 등의 가중치는 낮아진다\n",
    "\n"
   ]
  },
  {
   "cell_type": "code",
   "execution_count": 1,
   "metadata": {},
   "outputs": [
    {
     "name": "stdout",
     "output_type": "stream",
     "text": [
      "[[0.         0.         0.39687454 0.39687454 0.         0.79374908\n",
      "  0.2344005 ]\n",
      " [0.61980538 0.         0.         0.         0.61980538 0.\n",
      "  0.48133417]\n",
      " [0.4804584  0.63174505 0.         0.         0.4804584  0.\n",
      "  0.37311881]]\n",
      "{'that': 6, 'movie': 5, 'is': 3, 'famous': 2, 'like': 4, 'actor': 0, 'don': 1}\n"
     ]
    }
   ],
   "source": [
    "from sklearn.feature_extraction.text import TfidfVectorizer\n",
    "\n",
    "\n",
    "corpus = [\n",
    "    \"That movie is famous movie\",\n",
    "    \"I like that actor\",\n",
    "    \"I don’t like that actor\"\n",
    "]\n",
    "\n",
    "tfidf_vectorizer = TfidfVectorizer()\n",
    "tfidf_vectorizer.fit(corpus)\n",
    "tfidf_matrix = tfidf_vectorizer.transform(corpus)\n",
    "# tfidf_matrix = tfidf_vectorizer.fit_transform(corpus)\n",
    "\n",
    "print(tfidf_matrix.toarray())\n",
    "print(tfidf_vectorizer.vocabulary_)"
   ]
  },
  {
   "cell_type": "markdown",
   "metadata": {},
   "source": [
    "빈도 기반 벡터화는 문장의 순서나 문맥을 고려하지 않는다\n",
    "\n",
    "그러므로 문장 생성과 같이 순서가 중요한 작업에는 부적합하다\n",
    "\n",
    "또한 벡터가 해당 문서 내의 중요도의 의미할 뿐, 벡터가 단어의 의미를 담고 있지는 않다"
   ]
  }
 ],
 "metadata": {
  "kernelspec": {
   "display_name": "Python 3",
   "language": "python",
   "name": "python3"
  },
  "language_info": {
   "codemirror_mode": {
    "name": "ipython",
    "version": 3
   },
   "file_extension": ".py",
   "mimetype": "text/x-python",
   "name": "python",
   "nbconvert_exporter": "python",
   "pygments_lexer": "ipython3",
   "version": "3.12.4"
  }
 },
 "nbformat": 4,
 "nbformat_minor": 2
}
