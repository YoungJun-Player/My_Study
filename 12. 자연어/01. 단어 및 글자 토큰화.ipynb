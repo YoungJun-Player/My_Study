{
 "cells": [
  {
   "cell_type": "markdown",
   "metadata": {},
   "source": [
    "## 01. 단어 및 글자 토큰화"
   ]
  },
  {
   "cell_type": "markdown",
   "metadata": {},
   "source": [
    "토큰화는 자연어 처리에서 매우 중요한 전처리 과정이다\n",
    "\n",
    "텍스트 데이터를 구조적으로 분해하여 개별 토큰으로 나누는 작업을 의미한다\n",
    "\n",
    "정확한 분석을 위해서 필수이며, 단어나 문장의 빈도수, 출현 패턴 등을 파악할 수 있다"
   ]
  },
  {
   "cell_type": "markdown",
   "metadata": {},
   "source": [
    "### 단어 토큰화"
   ]
  },
  {
   "cell_type": "markdown",
   "metadata": {},
   "source": [
    "텍스트 데이터를 의미있는 단위인 단어로 분리하는 작업\n",
    "\n",
    "품사 태깅, 개체명 인식, 기계 번역 등의 작업에서 널리 사용되며 가장 일반적인 토큰화 방법\n",
    "\n"
   ]
  },
  {
   "cell_type": "code",
   "execution_count": 1,
   "metadata": {},
   "outputs": [
    {
     "name": "stdout",
     "output_type": "stream",
     "text": [
      "['현실과', '구분', '불가능한', 'cg.', '시각적', '즐거음은', '최고!', '더불어', 'ost는', '더더욱', '최고!!']\n"
     ]
    }
   ],
   "source": [
    "review = \" 현실과 구분 불가능한 cg. 시각적 즐거음은 최고! 더불어 ost는 더더욱 최고!!\"\n",
    "tokenized = review.split()\n",
    "print(tokenized)"
   ]
  },
  {
   "cell_type": "markdown",
   "metadata": {},
   "source": [
    "cg와 cg.가 비슷한 의미가 있다는 것을 알고 있지만 단어토큰화로 만들어진 단어사전에서는 각각 다른 단어로 인식한다\n",
    "\n",
    "이처럼 단어토큰화는 한국어 접사, 문장 부호, 오타 혹은 띄어쓰기 오류 등에 취약하다"
   ]
  },
  {
   "cell_type": "markdown",
   "metadata": {},
   "source": [
    "### 글자 토큰화"
   ]
  },
  {
   "cell_type": "markdown",
   "metadata": {},
   "source": [
    "띄어쓰기 뿐만 아니라 글자 단위로 문장을 나누는 방식으로, 비교적 작은 단어 사전을 구축할 수 있다는 장점이 있다\n",
    "\n",
    "작은 단어사전을 사용하면 학습 시 컴퓨터 자원을 아낄 수 있으며, 전체 말뭉치를 학습할 때 각 단어를 더욱 자주 학습할 수 있다는 장점이 있다\n",
    "\n",
    "글자 토큰화는 언어모델링과 같은 시퀀스 예측 작업에서 사용된다 \n",
    "\n",
    "예를 들어 다음 문자를 예측하는 언어 모델링에서 글자 토큰화는 유용한 방식이다"
   ]
  },
  {
   "cell_type": "code",
   "execution_count": 2,
   "metadata": {},
   "outputs": [
    {
     "name": "stdout",
     "output_type": "stream",
     "text": [
      "['현', '실', '과', ' ', '구', '분', ' ', '불', '가', '능', '한', ' ', 'c', 'g', '.', ' ', '시', '각', '적', ' ', '즐', '거', '음', '은', ' ', '최', '고', '!', ' ', '더', '불', '어', ' ', 'o', 's', 't', '는', ' ', '더', '더', '욱', ' ', '최', '고', '!', '!']\n"
     ]
    }
   ],
   "source": [
    "review = \"현실과 구분 불가능한 cg. 시각적 즐거음은 최고! 더불어 ost는 더더욱 최고!!\"\n",
    "tokenized = list(review)\n",
    "print(tokenized)"
   ]
  },
  {
   "cell_type": "markdown",
   "metadata": {},
   "source": [
    "영어의 경우 알파벳으로 나뉘지만 한글의 경우 한 글자가 여러 자음과 모음의 조합으로 이루어져있다\n",
    "\n",
    "그러므로 자소 단위로 나눠서 토큰화를 수행한다 jamo 라이브러리를 사용한다"
   ]
  },
  {
   "cell_type": "code",
   "execution_count": 5,
   "metadata": {},
   "outputs": [
    {
     "name": "stdout",
     "output_type": "stream",
     "text": [
      "['ㅎ', 'ㅕ', 'ㄴ', 'ㅅ', 'ㅣ', 'ㄹ', 'ㄱ', 'ㅘ', ' ', 'ㄱ', 'ㅜ', 'ㅂ', 'ㅜ', 'ㄴ', ' ', 'ㅂ', 'ㅜ', 'ㄹ', 'ㄱ', 'ㅏ', 'ㄴ', 'ㅡ', 'ㅇ', 'ㅎ', 'ㅏ', 'ㄴ', ' ', 'c', 'g', '.', ' ', 'ㅅ', 'ㅣ', 'ㄱ', 'ㅏ', 'ㄱ', 'ㅈ', 'ㅓ', 'ㄱ', ' ', 'ㅈ', 'ㅡ', 'ㄹ', 'ㄱ', 'ㅓ', 'ㅇ', 'ㅡ', 'ㅁ', 'ㅇ', 'ㅡ', 'ㄴ', ' ', 'ㅊ', 'ㅚ', 'ㄱ', 'ㅗ', '!', ' ', 'ㄷ', 'ㅓ', 'ㅂ', 'ㅜ', 'ㄹ', 'ㅇ', 'ㅓ', ' ', 'o', 's', 't', 'ㄴ', 'ㅡ', 'ㄴ', ' ', 'ㄷ', 'ㅓ', 'ㄷ', 'ㅓ', 'ㅇ', 'ㅜ', 'ㄱ', ' ', 'ㅊ', 'ㅚ', 'ㄱ', 'ㅗ', '!', '!']\n"
     ]
    }
   ],
   "source": [
    "from jamo import h2j, j2hcj\n",
    "\n",
    "\n",
    "review = \"현실과 구분 불가능한 cg. 시각적 즐거음은 최고! 더불어 ost는 더더욱 최고!!\"\n",
    "decomposed = j2hcj(h2j(review))\n",
    "tokenized = list(decomposed)\n",
    "print(tokenized)"
   ]
  },
  {
   "cell_type": "markdown",
   "metadata": {},
   "source": [
    "j2hcj 함수는 조합된 한글 문자들을 작은 단위로 나눠 반환하는 함수다\n",
    "\n",
    "앞서 단어 토큰화의 단점이었던 cg.와 cg의 차이도 학습할 수 있다\n",
    "\n",
    "작은 크기의 단어 사전으로도 oov를 크게 줄일 수 있다"
   ]
  },
  {
   "cell_type": "markdown",
   "metadata": {},
   "source": [
    "하지만 개별 토큰은 아무런 의미가 없으므로 자연어 모델이 각 토큰의 의미를 조합해 결과를 도출해야 한다\n",
    "\n",
    "토큰 조합 방식을 사용해 문장 생성이나 개체명 인식 등을 구현할 경우 다의어나 동음이의어가 많은 도메인에서 구별하는 것이 어려울 수 있다\n",
    "\n",
    "또한 모델 입력 시퀀스의 길이가 길어질 수록 연산량이 증가하는 단점이 있다"
   ]
  }
 ],
 "metadata": {
  "kernelspec": {
   "display_name": "Python 3",
   "language": "python",
   "name": "python3"
  },
  "language_info": {
   "codemirror_mode": {
    "name": "ipython",
    "version": 3
   },
   "file_extension": ".py",
   "mimetype": "text/x-python",
   "name": "python",
   "nbconvert_exporter": "python",
   "pygments_lexer": "ipython3",
   "version": "3.12.4"
  }
 },
 "nbformat": 4,
 "nbformat_minor": 2
}
