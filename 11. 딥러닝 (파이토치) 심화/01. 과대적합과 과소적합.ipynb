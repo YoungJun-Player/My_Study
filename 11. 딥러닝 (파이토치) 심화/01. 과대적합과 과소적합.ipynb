{
 "cells": [
  {
   "cell_type": "markdown",
   "metadata": {},
   "source": [
    "# 01. 과대적합과 과소적합"
   ]
  },
  {
   "cell_type": "markdown",
   "metadata": {},
   "source": [
    "과대적합 : 모델이 훈련 데이터에서는 우수하게 예측하지만 새로운 데이터에서는 제대로 예측하지 못해 오차가 크게 발생하는 것\n",
    "\n",
    "과소적합 :  입력된 데이터를 잘 예측할 수 없는 경우(데이터 부족)"
   ]
  },
  {
   "cell_type": "markdown",
   "metadata": {},
   "source": [
    "### 성능 저하"
   ]
  },
  {
   "cell_type": "markdown",
   "metadata": {},
   "source": [
    "과대적합은 훈련을 잘 진행하는 것처럼 보이지만 새로운 데이터에서는 제대로 된 값을 예측 하지 못함\n",
    "과소적합은 둘 다 잘 예측하지 못함"
   ]
  },
  {
   "cell_type": "markdown",
   "metadata": {},
   "source": [
    "### 모델 선택 실패"
   ]
  },
  {
   "cell_type": "markdown",
   "metadata": {},
   "source": [
    "과대적합과 과소적합은 모델을 변경해 문제를 완화할 수 있음\n",
    "\n",
    "과대적합의 경우 모델의 구조가 너무 복잡해 훈련 데이터에만 의존하여 성능이 저하\n",
    "\n",
    "과소적합의 경우 모델 구조가 너무 단순하여 제대로 학습하지 못한 경우"
   ]
  },
  {
   "cell_type": "markdown",
   "metadata": {},
   "source": [
    "### 편향 - 분산 트레이드오프"
   ]
  },
  {
   "cell_type": "markdown",
   "metadata": {},
   "source": [
    "우수한 성능을 보이려면 낮은 편향과 낮은 분산을 가져야 한다\n",
    "\n",
    "분산이 높으면 추정치에 대한 변동 폭이 커지며 데이터가 가지고 있는 노이즈까지 학습에 포함되어 과대적합을 유발\n",
    "\n",
    "편향이 높으면 추정치가 항상 일정한 값을 가지게 될 확률이 높아져 데이터의 특징을 제대로 학습하지 못해 과소적합 문제 발생"
   ]
  },
  {
   "cell_type": "markdown",
   "metadata": {},
   "source": [
    "분산과 편향은 서로 반비례하는 성질을 가지고 있음"
   ]
  }
 ],
 "metadata": {
  "language_info": {
   "name": "python"
  }
 },
 "nbformat": 4,
 "nbformat_minor": 2
}
